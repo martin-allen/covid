{
 "cells": [
  {
   "cell_type": "code",
   "execution_count": 1,
   "metadata": {},
   "outputs": [],
   "source": [
    "import pandas as pd\n",
    "import altair as alt"
   ]
  },
  {
   "cell_type": "code",
   "execution_count": 2,
   "metadata": {},
   "outputs": [],
   "source": [
    "df = pd.read_csv('./data/output/vaccine.csv')"
   ]
  },
  {
   "cell_type": "code",
   "execution_count": 84,
   "metadata": {},
   "outputs": [],
   "source": [
    "    today = pd.to_datetime(df.iloc[-1].date).strftime('%b %d')\n",
    "    doses = int(df.iloc[-1].new)"
   ]
  },
  {
   "cell_type": "code",
   "execution_count": 3,
   "metadata": {},
   "outputs": [],
   "source": [
    "    base = alt.Chart(df).encode(\n",
    "        alt.X('date:T', axis=alt.Axis(title=None))\n",
    "    )"
   ]
  },
  {
   "cell_type": "code",
   "execution_count": 87,
   "metadata": {},
   "outputs": [],
   "source": [
    "    total = alt.Chart(df).mark_area(\n",
    "        line = {'color': '#336634'},\n",
    "        color = '#9DC49E',\n",
    "        opacity = 0.5\n",
    "    ).encode(\n",
    "        alt.X('date:T',\n",
    "             axis = alt.Axis(\n",
    "                 title=None,\n",
    "                 labelOpacity = 0\n",
    "             )),\n",
    "        alt.Y('total:Q',\n",
    "            axis = alt.Axis(\n",
    "                title='Total Doses',\n",
    "                titleColor = '#8FB38F',\n",
    "                orient = 'right'\n",
    "                ))\n",
    "    ).properties(\n",
    "        width = 600,\n",
    "        height = 200\n",
    "    )"
   ]
  },
  {
   "cell_type": "code",
   "execution_count": 74,
   "metadata": {},
   "outputs": [],
   "source": [
    "    new_dots = alt.Chart(df).mark_circle(\n",
    "        color = '#336634',\n",
    "        size = 50\n",
    "    ).encode(\n",
    "        alt.X('date:T',\n",
    "             axis = alt.Axis(title=None)),\n",
    "        alt.Y('new:Q',\n",
    "            axis = alt.Axis(\n",
    "                title='New Doses',\n",
    "                titleColor = '#336634',\n",
    "                orient = 'right'\n",
    "                ))\n",
    "    )"
   ]
  },
  {
   "cell_type": "code",
   "execution_count": 79,
   "metadata": {},
   "outputs": [],
   "source": [
    "    new_line = alt.Chart(df).mark_line(\n",
    "        color = '#336634'\n",
    "    ).encode(\n",
    "        alt.X('date:T',\n",
    "             axis = alt.Axis(title=None)),\n",
    "        alt.Y('new:Q',\n",
    "             axis = alt.Axis(\n",
    "                 orient = 'right'\n",
    "             ))\n",
    "    )"
   ]
  },
  {
   "cell_type": "code",
   "execution_count": 80,
   "metadata": {},
   "outputs": [],
   "source": [
    "new = alt.layer(\n",
    "    new_line, new_dots\n",
    ").properties(\n",
    "    width = 600,\n",
    "    height = 200\n",
    ")"
   ]
  },
  {
   "cell_type": "code",
   "execution_count": 92,
   "metadata": {},
   "outputs": [],
   "source": [
    "vaccd = alt.Chart(df).mark_bar(\n",
    "        color = '#66334B'\n",
    "    ).encode(\n",
    "        alt.X('date:O',\n",
    "              axis = alt.Axis(\n",
    "                  labelOpacity = 0,\n",
    "                  title = None,\n",
    "                  grid = False\n",
    "                )\n",
    "        ),\n",
    "        alt.Y('vaccinated:Q', \n",
    "              axis = alt.Axis(\n",
    "                  title = 'Total People (two doses)',\n",
    "                  titleColor = '#66334B',\n",
    "                  orient = 'right'\n",
    "                ))\n",
    "    ).properties(\n",
    "        width = 600,\n",
    "        height = 150,\n",
    "    )"
   ]
  },
  {
   "cell_type": "code",
   "execution_count": 93,
   "metadata": {},
   "outputs": [
    {
     "data": {
      "text/html": [
       "\n",
       "<div id=\"altair-viz-4d39962be9504982977398e88c4f6e48\"></div>\n",
       "<script type=\"text/javascript\">\n",
       "  (function(spec, embedOpt){\n",
       "    let outputDiv = document.currentScript.previousElementSibling;\n",
       "    if (outputDiv.id !== \"altair-viz-4d39962be9504982977398e88c4f6e48\") {\n",
       "      outputDiv = document.getElementById(\"altair-viz-4d39962be9504982977398e88c4f6e48\");\n",
       "    }\n",
       "    const paths = {\n",
       "      \"vega\": \"https://cdn.jsdelivr.net/npm//vega@5?noext\",\n",
       "      \"vega-lib\": \"https://cdn.jsdelivr.net/npm//vega-lib?noext\",\n",
       "      \"vega-lite\": \"https://cdn.jsdelivr.net/npm//vega-lite@4.8.1?noext\",\n",
       "      \"vega-embed\": \"https://cdn.jsdelivr.net/npm//vega-embed@6?noext\",\n",
       "    };\n",
       "\n",
       "    function loadScript(lib) {\n",
       "      return new Promise(function(resolve, reject) {\n",
       "        var s = document.createElement('script');\n",
       "        s.src = paths[lib];\n",
       "        s.async = true;\n",
       "        s.onload = () => resolve(paths[lib]);\n",
       "        s.onerror = () => reject(`Error loading script: ${paths[lib]}`);\n",
       "        document.getElementsByTagName(\"head\")[0].appendChild(s);\n",
       "      });\n",
       "    }\n",
       "\n",
       "    function showError(err) {\n",
       "      outputDiv.innerHTML = `<div class=\"error\" style=\"color:red;\">${err}</div>`;\n",
       "      throw err;\n",
       "    }\n",
       "\n",
       "    function displayChart(vegaEmbed) {\n",
       "      vegaEmbed(outputDiv, spec, embedOpt)\n",
       "        .catch(err => showError(`Javascript Error: ${err.message}<br>This usually means there's a typo in your chart specification. See the javascript console for the full traceback.`));\n",
       "    }\n",
       "\n",
       "    if(typeof define === \"function\" && define.amd) {\n",
       "      requirejs.config({paths});\n",
       "      require([\"vega-embed\"], displayChart, err => showError(`Error loading script: ${err.message}`));\n",
       "    } else if (typeof vegaEmbed === \"function\") {\n",
       "      displayChart(vegaEmbed);\n",
       "    } else {\n",
       "      loadScript(\"vega\")\n",
       "        .then(() => loadScript(\"vega-lite\"))\n",
       "        .then(() => loadScript(\"vega-embed\"))\n",
       "        .catch(showError)\n",
       "        .then(() => displayChart(vegaEmbed));\n",
       "    }\n",
       "  })({\"config\": {\"view\": {\"continuousWidth\": 400, \"continuousHeight\": 300, \"strokeWidth\": 0}, \"axis\": {\"grid\": false}, \"title\": {\"color\": \"#336634\", \"fontSize\": 30}}, \"vconcat\": [{\"layer\": [{\"mark\": {\"type\": \"line\", \"color\": \"#336634\"}, \"encoding\": {\"x\": {\"type\": \"temporal\", \"axis\": {\"title\": null}, \"field\": \"date\"}, \"y\": {\"type\": \"quantitative\", \"axis\": {\"orient\": \"right\"}, \"field\": \"new\"}}}, {\"mark\": {\"type\": \"circle\", \"color\": \"#336634\", \"size\": 50}, \"encoding\": {\"x\": {\"type\": \"temporal\", \"axis\": {\"title\": null}, \"field\": \"date\"}, \"y\": {\"type\": \"quantitative\", \"axis\": {\"orient\": \"right\", \"title\": \"New Doses\", \"titleColor\": \"#336634\"}, \"field\": \"new\"}}}], \"height\": 200, \"width\": 600}, {\"mark\": {\"type\": \"area\", \"color\": \"#9DC49E\", \"line\": {\"color\": \"#336634\"}, \"opacity\": 0.5}, \"encoding\": {\"x\": {\"type\": \"temporal\", \"axis\": {\"labelOpacity\": 0, \"title\": null}, \"field\": \"date\"}, \"y\": {\"type\": \"quantitative\", \"axis\": {\"orient\": \"right\", \"title\": \"Total Doses\", \"titleColor\": \"#8FB38F\"}, \"field\": \"total\"}}, \"height\": 200, \"width\": 600}, {\"mark\": {\"type\": \"bar\", \"color\": \"#66334B\"}, \"encoding\": {\"x\": {\"type\": \"ordinal\", \"axis\": {\"grid\": false, \"labelOpacity\": 0, \"title\": null}, \"field\": \"date\"}, \"y\": {\"type\": \"quantitative\", \"axis\": {\"orient\": \"right\", \"title\": \"Total People (two doses)\", \"titleColor\": \"#66334B\"}, \"field\": \"vaccinated\"}}, \"height\": 150, \"width\": 600}], \"data\": {\"name\": \"data-9c86d69cbae66fba1ea18b51a0de34d7\"}, \"title\": {\"text\": [\"Ontario Vaccinations\", \"Jan 13: 11,231 new doses\"], \"subtitle\": [\"new doses; total doses; total vaccinated people\", \"@OntVaccine by @__martinallen__\"]}, \"$schema\": \"https://vega.github.io/schema/vega-lite/v4.8.1.json\", \"datasets\": {\"data-9c86d69cbae66fba1ea18b51a0de34d7\": [{\"date\": \"12/30/2020\", \"new\": 4595, \"total\": 18603, \"vaccinated\": 0}, {\"date\": \"12/31/2020\", \"new\": 5463, \"total\": 23502, \"vaccinated\": 0}, {\"date\": \"01/01/2021\", \"new\": 5415, \"total\": 28887, \"vaccinated\": 0}, {\"date\": \"01/02/2021\", \"new\": 4305, \"total\": 33191, \"vaccinated\": 0}, {\"date\": \"01/03/2021\", \"new\": 4361, \"total\": 37551, \"vaccinated\": 0}, {\"date\": \"01/04/2021\", \"new\": 4808, \"total\": 42419, \"vaccinated\": 0}, {\"date\": \"01/05/2021\", \"new\": 7607, \"total\": 50030, \"vaccinated\": 0}, {\"date\": \"01/06/2021\", \"new\": 10350, \"total\": 60380, \"vaccinated\": 860}, {\"date\": \"01/07/2021\", \"new\": 12251, \"total\": 72631, \"vaccinated\": 2173}, {\"date\": \"01/08/2021\", \"new\": 14932, \"total\": 87563, \"vaccinated\": 4053}, {\"date\": \"01/09/2021\", \"new\": 15700, \"total\": 103263, \"vaccinated\": 5880}, {\"date\": \"01/10/2021\", \"new\": 9983, \"total\": 113246, \"vaccinated\": 5884}, {\"date\": \"01/11/2021\", \"new\": 8859, \"total\": 122105, \"vaccinated\": 5884}, {\"date\": \"01/12/2021\", \"new\": 11448, \"total\": 133553, \"vaccinated\": 6046}, {\"date\": \"01/13/2021\", \"new\": 11231, \"total\": 144784, \"vaccinated\": 8778}]}}, {\"mode\": \"vega-lite\"});\n",
       "</script>"
      ],
      "text/plain": [
       "alt.VConcatChart(...)"
      ]
     },
     "execution_count": 93,
     "metadata": {},
     "output_type": "execute_result"
    }
   ],
   "source": [
    "alt.VConcatChart(\n",
    "    vconcat = [new, total, vaccd]\n",
    ").configure_view(\n",
    "    strokeWidth = 0\n",
    ").configure_axis(\n",
    "    grid = False\n",
    ").properties(\n",
    "        title = {\n",
    "            'text': [\n",
    "                'Ontario Vaccinations',\n",
    "                f'{today}: {doses:,d} new doses'\n",
    "            ],\n",
    "            'subtitle': [\n",
    "                'new doses; total doses; total vaccinated people',\n",
    "                '@OntVaccine by @__martinallen__'\n",
    "            ]\n",
    "        }\n",
    ").configure_title(\n",
    "        fontSize = 30,\n",
    "        color = '#336634'\n",
    ")"
   ]
  },
  {
   "cell_type": "code",
   "execution_count": null,
   "metadata": {},
   "outputs": [],
   "source": []
  }
 ],
 "metadata": {
  "kernelspec": {
   "display_name": "Python 3",
   "language": "python",
   "name": "python3"
  },
  "language_info": {
   "codemirror_mode": {
    "name": "ipython",
    "version": 3
   },
   "file_extension": ".py",
   "mimetype": "text/x-python",
   "name": "python",
   "nbconvert_exporter": "python",
   "pygments_lexer": "ipython3",
   "version": "3.8.5"
  }
 },
 "nbformat": 4,
 "nbformat_minor": 4
}
